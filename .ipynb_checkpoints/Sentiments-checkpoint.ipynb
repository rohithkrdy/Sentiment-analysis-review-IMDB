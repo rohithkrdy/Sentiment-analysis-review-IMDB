{
 "cells": [
  {
   "cell_type": "code",
   "execution_count": 1,
   "id": "94c2005d-bf46-4184-b682-d4b78c203071",
   "metadata": {
    "execution": {
     "iopub.execute_input": "2025-08-23T15:35:29.726894Z",
     "iopub.status.busy": "2025-08-23T15:35:29.710803Z",
     "iopub.status.idle": "2025-08-23T15:35:40.197031Z",
     "shell.execute_reply": "2025-08-23T15:35:40.193510Z",
     "shell.execute_reply.started": "2025-08-23T15:35:29.724615Z"
    }
   },
   "outputs": [],
   "source": [
    "import pandas as pd\n",
    "from sklearn.model_selection import train_test_split\n",
    "from sklearn.feature_extraction.text import TfidfVectorizer\n",
    "from sklearn.linear_model import LogisticRegression\n",
    "from sklearn.metrics import accuracy_score\n",
    "import pickle\n"
   ]
  },
  {
   "cell_type": "code",
   "execution_count": 19,
   "id": "eafa662c-a350-417f-92d3-e85d646fc8a0",
   "metadata": {
    "execution": {
     "iopub.execute_input": "2025-08-23T15:45:11.542391Z",
     "iopub.status.busy": "2025-08-23T15:45:11.541398Z",
     "iopub.status.idle": "2025-08-23T15:45:12.933875Z",
     "shell.execute_reply": "2025-08-23T15:45:12.932863Z",
     "shell.execute_reply.started": "2025-08-23T15:45:11.542391Z"
    }
   },
   "outputs": [
    {
     "data": {
      "text/plain": [
       "(50000, 2)"
      ]
     },
     "execution_count": 19,
     "metadata": {},
     "output_type": "execute_result"
    }
   ],
   "source": [
    "data = pd.read_csv(\"datasets/IMDB Dataset.csv\")\n",
    "data.shape"
   ]
  },
  {
   "cell_type": "code",
   "execution_count": 22,
   "id": "475e042f-a049-4e2c-98cb-ce41fe9bd988",
   "metadata": {
    "execution": {
     "iopub.execute_input": "2025-08-23T15:45:29.262525Z",
     "iopub.status.busy": "2025-08-23T15:45:29.261184Z",
     "iopub.status.idle": "2025-08-23T15:45:29.315510Z",
     "shell.execute_reply": "2025-08-23T15:45:29.314094Z",
     "shell.execute_reply.started": "2025-08-23T15:45:29.262525Z"
    }
   },
   "outputs": [
    {
     "data": {
      "text/plain": [
       "<bound method NDFrame.describe of                                                   review sentiment\n",
       "0      One of the other reviewers has mentioned that ...  positive\n",
       "1      A wonderful little production. <br /><br />The...  positive\n",
       "2      I thought this was a wonderful way to spend ti...  positive\n",
       "3      Basically there's a family where a little boy ...  negative\n",
       "4      Petter Mattei's \"Love in the Time of Money\" is...  positive\n",
       "...                                                  ...       ...\n",
       "49995  I thought this movie did a down right good job...  positive\n",
       "49996  Bad plot, bad dialogue, bad acting, idiotic di...  negative\n",
       "49997  I am a Catholic taught in parochial elementary...  negative\n",
       "49998  I'm going to have to disagree with the previou...  negative\n",
       "49999  No one expects the Star Trek movies to be high...  negative\n",
       "\n",
       "[50000 rows x 2 columns]>"
      ]
     },
     "execution_count": 22,
     "metadata": {},
     "output_type": "execute_result"
    }
   ],
   "source": [
    "data.describe\n"
   ]
  },
  {
   "cell_type": "code",
   "execution_count": 31,
   "id": "68be770c-4e62-40d3-8bc2-c525a19fe18f",
   "metadata": {
    "execution": {
     "iopub.execute_input": "2025-08-23T15:48:45.272165Z",
     "iopub.status.busy": "2025-08-23T15:48:45.271173Z",
     "iopub.status.idle": "2025-08-23T15:48:57.927456Z",
     "shell.execute_reply": "2025-08-23T15:48:57.926355Z",
     "shell.execute_reply.started": "2025-08-23T15:48:45.272165Z"
    }
   },
   "outputs": [
    {
     "name": "stdout",
     "output_type": "stream",
     "text": [
      "Accuracy: 0.889\n"
     ]
    }
   ],
   "source": [
    "import pandas as pd\n",
    "from sklearn.model_selection import train_test_split\n",
    "from sklearn.feature_extraction.text import TfidfVectorizer\n",
    "from sklearn.linear_model import LogisticRegression\n",
    "from sklearn.metrics import accuracy_score\n",
    "import pickle\n",
    "\n",
    "# 1. Load dataset\n",
    "data = pd.read_csv(\"datasets/IMDB Dataset.csv\")\n",
    "\n",
    "# 2. Encode labels\n",
    "data['sentiment'] = data['sentiment'].map({'positive':1, 'negative':0})\n",
    "\n",
    "# 3. Split\n",
    "X_train, X_test, y_train, y_test = train_test_split(\n",
    "    data['review'], data['sentiment'], test_size=0.2, random_state=42\n",
    ")\n",
    "\n",
    "# 4. Vectorize text\n",
    "vectorizer = TfidfVectorizer(stop_words='english', max_features=5000)\n",
    "X_train_vec = vectorizer.fit_transform(X_train)\n",
    "X_test_vec = vectorizer.transform(X_test)\n",
    "\n",
    "# 5. Train model\n",
    "model = LogisticRegression(max_iter=1000)\n",
    "model.fit(X_train_vec, y_train)\n",
    "\n",
    "# 6. Evaluate\n",
    "y_pred = model.predict(X_test_vec)\n",
    "print(\"Accuracy:\", accuracy_score(y_test, y_pred))\n",
    "\n",
    "# 7. Save model & vectorizer\n",
    "pickle.dump(model, open(\"model/sentiment_model.pkl\",\"wb\"))\n",
    "pickle.dump(vectorizer, open(\"model/vectorizer.pkl\",\"wb\"))\n"
   ]
  }
 ],
 "metadata": {
  "kernelspec": {
   "display_name": "Python [conda env:base] *",
   "language": "python",
   "name": "conda-base-py"
  },
  "language_info": {
   "codemirror_mode": {
    "name": "ipython",
    "version": 3
   },
   "file_extension": ".py",
   "mimetype": "text/x-python",
   "name": "python",
   "nbconvert_exporter": "python",
   "pygments_lexer": "ipython3",
   "version": "3.12.7"
  }
 },
 "nbformat": 4,
 "nbformat_minor": 5
}
